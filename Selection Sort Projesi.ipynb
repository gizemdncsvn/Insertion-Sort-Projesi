{
 "cells": [
  {
   "cell_type": "markdown",
   "id": "2765e69c",
   "metadata": {},
   "source": [
    "## Selection Sort Projesi"
   ]
  },
  {
   "cell_type": "markdown",
   "id": "398374d4",
   "metadata": {},
   "source": [
    "### Proje 1.1"
   ]
  },
  {
   "cell_type": "markdown",
   "id": "a2b1fabf",
   "metadata": {},
   "source": [
    "[22,27,16,2,18,6] -> Insertion Sort\n",
    "\n",
    "Yukarı verilen dizinin sort türüne göre aşamalarını yazınız.\n",
    "\n",
    "Big-O gösterimini yazınız.\n",
    "\n",
    "Time Complexity: Dizi sıralandıktan sonra 18 sayısı aşağıdaki case'lerden hangisinin kapsamına girer? Yazınız\n",
    "\n",
    "- Average case: Aradığımız sayının ortada olması\n",
    "- Worst case: Aradığımız sayının sonda olması\n",
    "- Best case: Aradığımız sayının dizinin en başında olması.\n"
   ]
  },
  {
   "cell_type": "markdown",
   "id": "e92478bb",
   "metadata": {},
   "source": [
    "### Çözüm"
   ]
  },
  {
   "cell_type": "markdown",
   "id": "095f5226",
   "metadata": {},
   "source": [
    "- **1.Aşama**\n",
    "\n",
    " [22,16,27,2,18,6]\n",
    "    \n",
    "- **2. Aşama**\n",
    "\n",
    " [16,22,27,2,18,6]\n",
    " \n",
    "- **3. Aşama**\n",
    " \n",
    " [16,22,2,27,18,6]\n",
    "  \n",
    "- **4. Aşama**\n",
    "  \n",
    " [16,2,22,27,18,6]\n",
    "  \n",
    "- **5. Adım**\n",
    "\n",
    " [2,16,22,27,18,6]\n",
    " \n",
    "- **6. Adım**\n",
    "\n",
    " [2,16,22,18,27,6]\n",
    " \n",
    "- **7. Adım**\n",
    "\n",
    " [2,16,18,22,27,6]\n",
    " \n",
    "- **8.Adım**\n",
    "\n",
    " [2,16,18,22,6,27]\n",
    " \n",
    "- **9. Adım**\n",
    "\n",
    " [2,16,18,6,22,27]\n",
    " \n",
    "- **10. Adım**\n",
    "\n",
    " [2,16,6,18,22,27]\n",
    " \n",
    "- **11.Adım**\n",
    "\n",
    " [2,6,16,18,22,27]\n",
    " "
   ]
  },
  {
   "cell_type": "markdown",
   "id": "351f3610",
   "metadata": {},
   "source": [
    "- 18 elemanı ortada bir değer olduğu içim Average Case grubundadır."
   ]
  },
  {
   "cell_type": "markdown",
   "id": "fdaaf1f4",
   "metadata": {},
   "source": [
    "### Proje 1.2"
   ]
  },
  {
   "cell_type": "markdown",
   "id": "5fb09fa7",
   "metadata": {},
   "source": [
    "[7,3,5,8,2,9,4,15,6] dizisinin Selection Sort'a göre ilk 4 adımını yazınız."
   ]
  },
  {
   "cell_type": "markdown",
   "id": "1661463a",
   "metadata": {},
   "source": [
    "### Çözüm"
   ]
  },
  {
   "cell_type": "markdown",
   "id": "1ebb4bd1",
   "metadata": {},
   "source": [
    "- **1. Aşama**\n",
    "\n",
    " [3,7,5,8,2,9,4,15,6]\n",
    " \n",
    "- **2. Aşama**\n",
    "\n",
    " [3,5,7,8,2,9,4,15,6] (8'e kadar sıralama doğru ilerlediği için sonraki adımlarda 8'den devam edilir)\n",
    " \n",
    "- **3. Adım**\n",
    "\n",
    " [2,5,7,8,9,4,15,6]\n",
    " \n",
    "- **4. Adım**\n",
    "\n",
    " [2,4,5,7,8,9,15,6]\n",
    "\n",
    " \n"
   ]
  },
  {
   "cell_type": "code",
   "execution_count": null,
   "id": "013d639a",
   "metadata": {},
   "outputs": [],
   "source": []
  }
 ],
 "metadata": {
  "kernelspec": {
   "display_name": "Python 3 (ipykernel)",
   "language": "python",
   "name": "python3"
  },
  "language_info": {
   "codemirror_mode": {
    "name": "ipython",
    "version": 3
   },
   "file_extension": ".py",
   "mimetype": "text/x-python",
   "name": "python",
   "nbconvert_exporter": "python",
   "pygments_lexer": "ipython3",
   "version": "3.11.2"
  }
 },
 "nbformat": 4,
 "nbformat_minor": 5
}
